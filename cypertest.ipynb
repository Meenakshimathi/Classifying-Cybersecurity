{
  "nbformat": 4,
  "nbformat_minor": 0,
  "metadata": {
    "colab": {
      "provenance": [],
      "gpuType": "T4"
    },
    "kernelspec": {
      "name": "python3",
      "display_name": "Python 3"
    },
    "language_info": {
      "name": "python"
    },
    "accelerator": "GPU"
  },
  "cells": [
    {
      "cell_type": "code",
      "execution_count": 1,
      "metadata": {
        "id": "xEckhi-i7ScB"
      },
      "outputs": [],
      "source": [
        "import pandas as pd\n",
        "import numpy as np\n",
        "import matplotlib.pyplot as plt\n",
        "import seaborn as sns\n",
        "import warnings\n",
        "warnings.filterwarnings('ignore')"
      ]
    },
    {
      "cell_type": "code",
      "source": [
        "import os\n",
        "import pickle\n",
        "import re\n"
      ],
      "metadata": {
        "id": "hnl_qC7u8APe"
      },
      "execution_count": 2,
      "outputs": []
    },
    {
      "cell_type": "code",
      "source": [
        "from sklearn.ensemble import RandomForestClassifier\n",
        "from sklearn.tree import DecisionTreeClassifier\n",
        "import xgboost\n",
        "from sklearn.model_selection import train_test_split,cross_val_score,GridSearchCV,RandomizedSearchCV\n",
        "from sklearn.metrics import precision_score,f1_score,recall_score,classification_report,accuracy_score\n",
        "import joblib\n",
        "from imblearn.over_sampling import SMOTE\n",
        "from tqdm import tqdm"
      ],
      "metadata": {
        "id": "KnzMG-P88EGM"
      },
      "execution_count": 3,
      "outputs": []
    },
    {
      "cell_type": "code",
      "source": [
        "from google.colab import drive\n",
        "drive.mount('/content/drive')\n"
      ],
      "metadata": {
        "colab": {
          "base_uri": "https://localhost:8080/"
        },
        "id": "w9yDrPcV8OhV",
        "outputId": "fae2507a-123e-42b0-e7e1-8075a23c5d82"
      },
      "execution_count": 4,
      "outputs": [
        {
          "output_type": "stream",
          "name": "stdout",
          "text": [
            "Mounted at /content/drive\n"
          ]
        }
      ]
    },
    {
      "cell_type": "code",
      "source": [
        "file_path = '/content/drive/My Drive/FolderName/GUIDE_Test.csv.csv'\n"
      ],
      "metadata": {
        "id": "cEroJDp_8aFB"
      },
      "execution_count": 5,
      "outputs": []
    },
    {
      "cell_type": "code",
      "source": [
        "!ls /content/drive/My\\ Drive"
      ],
      "metadata": {
        "colab": {
          "base_uri": "https://localhost:8080/"
        },
        "id": "spkpeR9V-7ZG",
        "outputId": "da468552-b4e8-4745-9f2b-83aece85717b"
      },
      "execution_count": null,
      "outputs": [
        {
          "output_type": "stream",
          "name": "stdout",
          "text": [
            "'Colab Notebooks'\t\t  'Hacker Rank Complete Problems with Solution.gdoc'\n",
            "'Copy of Copy of itp_day2.ipynb'   new_train_sample.csv\n",
            " GUIDE_Test.csv\n"
          ]
        }
      ]
    },
    {
      "cell_type": "code",
      "source": [
        "from google.colab import drive\n",
        "drive.mount('/content/drive', force_remount=True)\n"
      ],
      "metadata": {
        "colab": {
          "base_uri": "https://localhost:8080/"
        },
        "id": "tLF6l-Vx_B-r",
        "outputId": "2c951f2c-7c5f-4467-eb13-2aa4b8a372f2"
      },
      "execution_count": 6,
      "outputs": [
        {
          "output_type": "stream",
          "name": "stdout",
          "text": [
            "Mounted at /content/drive\n"
          ]
        }
      ]
    },
    {
      "cell_type": "code",
      "source": [
        "from google.colab import drive\n",
        "drive.mount('/content/drive')\n",
        "\n",
        "# Verify folder structure\n",
        "!ls /content/drive/My\\ Drive\n",
        "\n",
        "# Correct path to your file\n",
        "file_path = '/content/drive/My Drive/FolderName/GUIDE_Test.csv'\n",
        "\n",
        "# Read the CSV\n",
        "import pandas as pd\n",
        "df = pd.read_csv('/content/drive/MyDrive/GUIDE_Test.csv')\n",
        "print(df.head())"
      ],
      "metadata": {
        "colab": {
          "base_uri": "https://localhost:8080/"
        },
        "id": "88e0lY8E_JHq",
        "outputId": "7929164d-d7db-45d9-99a8-23e8863745a8"
      },
      "execution_count": 7,
      "outputs": [
        {
          "output_type": "stream",
          "name": "stdout",
          "text": [
            "Drive already mounted at /content/drive; to attempt to forcibly remount, call drive.mount(\"/content/drive\", force_remount=True).\n",
            "'Colab Notebooks'\t\t  'Hacker Rank Complete Problems with Solution.gdoc'\n",
            "'Copy of Copy of itp_day2.ipynb'   new_train_sample.csv\n",
            " GUIDE_Test.csv\n",
            "              Id  OrgId  IncidentId  AlertId                 Timestamp  \\\n",
            "0  1245540519230    657       11767    87199  2024-06-04T22:56:27.000Z   \n",
            "1  1400159342154      3       91158   632273  2024-06-03T12:58:26.000Z   \n",
            "2  1279900255923    145       32247   131719  2024-06-08T03:20:49.000Z   \n",
            "3    60129547292    222       15294   917686  2024-06-12T12:07:31.000Z   \n",
            "4   515396080539    363        7615     5944  2024-06-06T17:42:05.000Z   \n",
            "\n",
            "   DetectorId  AlertTitle           Category                  MitreTechniques  \\\n",
            "0         524         563    LateralMovement      T1021;T1047;T1105;T1569.002   \n",
            "1           2           2  CommandAndControl                              NaN   \n",
            "2        2932       10807    LateralMovement  T1021;T1027.002;T1027.005;T1105   \n",
            "3           0           0      InitialAccess                  T1078;T1078.004   \n",
            "4          27          18          Discovery                  T1087;T1087.002   \n",
            "\n",
            "    IncidentGrade  ...       Roles OSFamily OSVersion AntispamDirection  \\\n",
            "0  BenignPositive  ...         NaN        5        66               NaN   \n",
            "1  BenignPositive  ...         NaN        0         0               NaN   \n",
            "2  BenignPositive  ...         NaN        5        66               NaN   \n",
            "3   FalsePositive  ...         NaN        5        66               NaN   \n",
            "4  BenignPositive  ...  Suspicious        5        66               NaN   \n",
            "\n",
            "   SuspicionLevel  LastVerdict  CountryCode  State   City    Usage  \n",
            "0      Suspicious   Suspicious          242   1445  10630  Private  \n",
            "1      Suspicious   Suspicious          242   1445  10630   Public  \n",
            "2      Suspicious   Suspicious          242   1445  10630   Public  \n",
            "3             NaN          NaN          242   1445  10630   Public  \n",
            "4             NaN          NaN          242   1445  10630   Public  \n",
            "\n",
            "[5 rows x 46 columns]\n"
          ]
        }
      ]
    },
    {
      "cell_type": "code",
      "source": [
        "df.isnull().sum()"
      ],
      "metadata": {
        "colab": {
          "base_uri": "https://localhost:8080/",
          "height": 1000
        },
        "id": "q5R0bf_XPpmS",
        "outputId": "272d5324-f3ef-4992-9d5e-807b3b8a5409"
      },
      "execution_count": 8,
      "outputs": [
        {
          "output_type": "execute_result",
          "data": {
            "text/plain": [
              "Id                          0\n",
              "OrgId                       0\n",
              "IncidentId                  0\n",
              "AlertId                     0\n",
              "Timestamp                   0\n",
              "DetectorId                  0\n",
              "AlertTitle                  0\n",
              "Category                    0\n",
              "MitreTechniques       2307104\n",
              "IncidentGrade               0\n",
              "ActionGrouped         4146079\n",
              "ActionGranular        4146079\n",
              "EntityType                  0\n",
              "EvidenceRole                0\n",
              "DeviceId                    0\n",
              "Sha256                      0\n",
              "IpAddress                   0\n",
              "Url                         0\n",
              "AccountSid                  0\n",
              "AccountUpn                  0\n",
              "AccountObjectId             0\n",
              "AccountName                 0\n",
              "DeviceName                  0\n",
              "NetworkMessageId            0\n",
              "EmailClusterId        4106285\n",
              "RegistryKey                 0\n",
              "RegistryValueName           0\n",
              "RegistryValueData           0\n",
              "ApplicationId               0\n",
              "ApplicationName             0\n",
              "OAuthApplicationId          0\n",
              "ThreatFamily          4116614\n",
              "FileName                    0\n",
              "FolderPath                  0\n",
              "ResourceIdName              0\n",
              "ResourceType          4144998\n",
              "Roles                 4039317\n",
              "OSFamily                    0\n",
              "OSVersion                   0\n",
              "AntispamDirection     4071481\n",
              "SuspicionLevel        3498157\n",
              "LastVerdict           3155260\n",
              "CountryCode                 0\n",
              "State                       0\n",
              "City                        0\n",
              "Usage                       0\n",
              "dtype: int64"
            ],
            "text/html": [
              "<div>\n",
              "<style scoped>\n",
              "    .dataframe tbody tr th:only-of-type {\n",
              "        vertical-align: middle;\n",
              "    }\n",
              "\n",
              "    .dataframe tbody tr th {\n",
              "        vertical-align: top;\n",
              "    }\n",
              "\n",
              "    .dataframe thead th {\n",
              "        text-align: right;\n",
              "    }\n",
              "</style>\n",
              "<table border=\"1\" class=\"dataframe\">\n",
              "  <thead>\n",
              "    <tr style=\"text-align: right;\">\n",
              "      <th></th>\n",
              "      <th>0</th>\n",
              "    </tr>\n",
              "  </thead>\n",
              "  <tbody>\n",
              "    <tr>\n",
              "      <th>Id</th>\n",
              "      <td>0</td>\n",
              "    </tr>\n",
              "    <tr>\n",
              "      <th>OrgId</th>\n",
              "      <td>0</td>\n",
              "    </tr>\n",
              "    <tr>\n",
              "      <th>IncidentId</th>\n",
              "      <td>0</td>\n",
              "    </tr>\n",
              "    <tr>\n",
              "      <th>AlertId</th>\n",
              "      <td>0</td>\n",
              "    </tr>\n",
              "    <tr>\n",
              "      <th>Timestamp</th>\n",
              "      <td>0</td>\n",
              "    </tr>\n",
              "    <tr>\n",
              "      <th>DetectorId</th>\n",
              "      <td>0</td>\n",
              "    </tr>\n",
              "    <tr>\n",
              "      <th>AlertTitle</th>\n",
              "      <td>0</td>\n",
              "    </tr>\n",
              "    <tr>\n",
              "      <th>Category</th>\n",
              "      <td>0</td>\n",
              "    </tr>\n",
              "    <tr>\n",
              "      <th>MitreTechniques</th>\n",
              "      <td>2307104</td>\n",
              "    </tr>\n",
              "    <tr>\n",
              "      <th>IncidentGrade</th>\n",
              "      <td>0</td>\n",
              "    </tr>\n",
              "    <tr>\n",
              "      <th>ActionGrouped</th>\n",
              "      <td>4146079</td>\n",
              "    </tr>\n",
              "    <tr>\n",
              "      <th>ActionGranular</th>\n",
              "      <td>4146079</td>\n",
              "    </tr>\n",
              "    <tr>\n",
              "      <th>EntityType</th>\n",
              "      <td>0</td>\n",
              "    </tr>\n",
              "    <tr>\n",
              "      <th>EvidenceRole</th>\n",
              "      <td>0</td>\n",
              "    </tr>\n",
              "    <tr>\n",
              "      <th>DeviceId</th>\n",
              "      <td>0</td>\n",
              "    </tr>\n",
              "    <tr>\n",
              "      <th>Sha256</th>\n",
              "      <td>0</td>\n",
              "    </tr>\n",
              "    <tr>\n",
              "      <th>IpAddress</th>\n",
              "      <td>0</td>\n",
              "    </tr>\n",
              "    <tr>\n",
              "      <th>Url</th>\n",
              "      <td>0</td>\n",
              "    </tr>\n",
              "    <tr>\n",
              "      <th>AccountSid</th>\n",
              "      <td>0</td>\n",
              "    </tr>\n",
              "    <tr>\n",
              "      <th>AccountUpn</th>\n",
              "      <td>0</td>\n",
              "    </tr>\n",
              "    <tr>\n",
              "      <th>AccountObjectId</th>\n",
              "      <td>0</td>\n",
              "    </tr>\n",
              "    <tr>\n",
              "      <th>AccountName</th>\n",
              "      <td>0</td>\n",
              "    </tr>\n",
              "    <tr>\n",
              "      <th>DeviceName</th>\n",
              "      <td>0</td>\n",
              "    </tr>\n",
              "    <tr>\n",
              "      <th>NetworkMessageId</th>\n",
              "      <td>0</td>\n",
              "    </tr>\n",
              "    <tr>\n",
              "      <th>EmailClusterId</th>\n",
              "      <td>4106285</td>\n",
              "    </tr>\n",
              "    <tr>\n",
              "      <th>RegistryKey</th>\n",
              "      <td>0</td>\n",
              "    </tr>\n",
              "    <tr>\n",
              "      <th>RegistryValueName</th>\n",
              "      <td>0</td>\n",
              "    </tr>\n",
              "    <tr>\n",
              "      <th>RegistryValueData</th>\n",
              "      <td>0</td>\n",
              "    </tr>\n",
              "    <tr>\n",
              "      <th>ApplicationId</th>\n",
              "      <td>0</td>\n",
              "    </tr>\n",
              "    <tr>\n",
              "      <th>ApplicationName</th>\n",
              "      <td>0</td>\n",
              "    </tr>\n",
              "    <tr>\n",
              "      <th>OAuthApplicationId</th>\n",
              "      <td>0</td>\n",
              "    </tr>\n",
              "    <tr>\n",
              "      <th>ThreatFamily</th>\n",
              "      <td>4116614</td>\n",
              "    </tr>\n",
              "    <tr>\n",
              "      <th>FileName</th>\n",
              "      <td>0</td>\n",
              "    </tr>\n",
              "    <tr>\n",
              "      <th>FolderPath</th>\n",
              "      <td>0</td>\n",
              "    </tr>\n",
              "    <tr>\n",
              "      <th>ResourceIdName</th>\n",
              "      <td>0</td>\n",
              "    </tr>\n",
              "    <tr>\n",
              "      <th>ResourceType</th>\n",
              "      <td>4144998</td>\n",
              "    </tr>\n",
              "    <tr>\n",
              "      <th>Roles</th>\n",
              "      <td>4039317</td>\n",
              "    </tr>\n",
              "    <tr>\n",
              "      <th>OSFamily</th>\n",
              "      <td>0</td>\n",
              "    </tr>\n",
              "    <tr>\n",
              "      <th>OSVersion</th>\n",
              "      <td>0</td>\n",
              "    </tr>\n",
              "    <tr>\n",
              "      <th>AntispamDirection</th>\n",
              "      <td>4071481</td>\n",
              "    </tr>\n",
              "    <tr>\n",
              "      <th>SuspicionLevel</th>\n",
              "      <td>3498157</td>\n",
              "    </tr>\n",
              "    <tr>\n",
              "      <th>LastVerdict</th>\n",
              "      <td>3155260</td>\n",
              "    </tr>\n",
              "    <tr>\n",
              "      <th>CountryCode</th>\n",
              "      <td>0</td>\n",
              "    </tr>\n",
              "    <tr>\n",
              "      <th>State</th>\n",
              "      <td>0</td>\n",
              "    </tr>\n",
              "    <tr>\n",
              "      <th>City</th>\n",
              "      <td>0</td>\n",
              "    </tr>\n",
              "    <tr>\n",
              "      <th>Usage</th>\n",
              "      <td>0</td>\n",
              "    </tr>\n",
              "  </tbody>\n",
              "</table>\n",
              "</div><br><label><b>dtype:</b> int64</label>"
            ]
          },
          "metadata": {},
          "execution_count": 8
        }
      ]
    },
    {
      "cell_type": "code",
      "source": [
        "threshold = len(df) * 0.5\n",
        "df.dropna(axis=1, thresh=threshold,inplace=True)\n",
        "\n",
        "print(df.nunique())\n",
        "# Discard columns that contain only a single unique value.\n",
        "df = df.loc[:, df.nunique() > 1]\n",
        "\n",
        "# Checking for duplicate rows and drop those rows\n",
        "print(df.duplicated().sum())\n",
        "df.drop_duplicates(keep='first',inplace=True)\n",
        "print(df.duplicated().sum())"
      ],
      "metadata": {
        "colab": {
          "base_uri": "https://localhost:8080/"
        },
        "id": "P_Gl_30MQUI4",
        "outputId": "11a39e89-e141-49e7-a83f-662f504273af"
      },
      "execution_count": 9,
      "outputs": [
        {
          "output_type": "stream",
          "name": "stdout",
          "text": [
            "Id                    303220\n",
            "OrgId                   4400\n",
            "IncidentId            236267\n",
            "AlertId               637320\n",
            "Timestamp             482830\n",
            "DetectorId              5970\n",
            "AlertTitle             42265\n",
            "Category                  19\n",
            "IncidentGrade              3\n",
            "EntityType                29\n",
            "EvidenceRole               2\n",
            "DeviceId               46260\n",
            "Sha256                 59446\n",
            "IpAddress             173786\n",
            "Url                    65600\n",
            "AccountSid            215737\n",
            "AccountUpn            311996\n",
            "AccountObjectId       204666\n",
            "AccountName           222314\n",
            "DeviceName             74791\n",
            "NetworkMessageId      181759\n",
            "RegistryKey              995\n",
            "RegistryValueName        255\n",
            "RegistryValueData        492\n",
            "ApplicationId            951\n",
            "ApplicationName         1514\n",
            "OAuthApplicationId       380\n",
            "FileName              122200\n",
            "FolderPath             43970\n",
            "ResourceIdName          1109\n",
            "OSFamily                   5\n",
            "OSVersion                 43\n",
            "CountryCode              212\n",
            "State                   1159\n",
            "City                    6637\n",
            "Usage                      2\n",
            "dtype: int64\n",
            "225297\n",
            "0\n"
          ]
        }
      ]
    },
    {
      "cell_type": "code",
      "source": [
        "# Inspect columns\n",
        "print(\"Columns in the dataframe:\", df.columns.tolist())\n",
        "\n",
        "# Drop only existing columns\n",
        "columns_to_drop = ['Unnamed: 0', 'IncidentId', 'AlertId', 'Id', 'AccountUpn', 'OSVersion','ResourceType'\n",
        "                   'EmailClusterId', 'NetworkMessageId', 'AccountObjectId', 'DeviceName',\n",
        "                   'Sha256', 'OSFamily', 'FolderPath', 'FileName', 'OAuthApplicationId',\n",
        "                   'ApplicationName', 'ApplicationId', 'RegistryValueData','State','AccountName'\n",
        "                   'RegistryValueName', 'RegistryKey']\n",
        "\n",
        "df.drop(columns=[col for col in columns_to_drop if col in df.columns], inplace=True)\n",
        "\n",
        "# Verify remaining columns\n",
        "print(\"Remaining columns:\", df.columns.tolist())"
      ],
      "metadata": {
        "colab": {
          "base_uri": "https://localhost:8080/"
        },
        "id": "ImUfQkodFDBY",
        "outputId": "b44503bf-b7e8-4f43-ecbd-142b41fef319"
      },
      "execution_count": 10,
      "outputs": [
        {
          "output_type": "stream",
          "name": "stdout",
          "text": [
            "Columns in the dataframe: ['Id', 'OrgId', 'IncidentId', 'AlertId', 'Timestamp', 'DetectorId', 'AlertTitle', 'Category', 'IncidentGrade', 'EntityType', 'EvidenceRole', 'DeviceId', 'Sha256', 'IpAddress', 'Url', 'AccountSid', 'AccountUpn', 'AccountObjectId', 'AccountName', 'DeviceName', 'NetworkMessageId', 'RegistryKey', 'RegistryValueName', 'RegistryValueData', 'ApplicationId', 'ApplicationName', 'OAuthApplicationId', 'FileName', 'FolderPath', 'ResourceIdName', 'OSFamily', 'OSVersion', 'CountryCode', 'State', 'City', 'Usage']\n",
            "Remaining columns: ['OrgId', 'Timestamp', 'DetectorId', 'AlertTitle', 'Category', 'IncidentGrade', 'EntityType', 'EvidenceRole', 'DeviceId', 'IpAddress', 'Url', 'AccountSid', 'AccountName', 'RegistryValueName', 'ResourceIdName', 'CountryCode', 'City', 'Usage']\n"
          ]
        }
      ]
    },
    {
      "cell_type": "code",
      "source": [
        "df.info()"
      ],
      "metadata": {
        "colab": {
          "base_uri": "https://localhost:8080/"
        },
        "id": "0jwRPkVjLGfm",
        "outputId": "e4a86eea-ecd9-4b18-8097-93e0401a4095"
      },
      "execution_count": 11,
      "outputs": [
        {
          "output_type": "stream",
          "name": "stdout",
          "text": [
            "<class 'pandas.core.frame.DataFrame'>\n",
            "Index: 3922695 entries, 0 to 4147990\n",
            "Data columns (total 18 columns):\n",
            " #   Column             Dtype \n",
            "---  ------             ----- \n",
            " 0   OrgId              int64 \n",
            " 1   Timestamp          object\n",
            " 2   DetectorId         int64 \n",
            " 3   AlertTitle         int64 \n",
            " 4   Category           object\n",
            " 5   IncidentGrade      object\n",
            " 6   EntityType         object\n",
            " 7   EvidenceRole       object\n",
            " 8   DeviceId           int64 \n",
            " 9   IpAddress          int64 \n",
            " 10  Url                int64 \n",
            " 11  AccountSid         int64 \n",
            " 12  AccountName        int64 \n",
            " 13  RegistryValueName  int64 \n",
            " 14  ResourceIdName     int64 \n",
            " 15  CountryCode        int64 \n",
            " 16  City               int64 \n",
            " 17  Usage              object\n",
            "dtypes: int64(12), object(6)\n",
            "memory usage: 568.6+ MB\n"
          ]
        }
      ]
    },
    {
      "cell_type": "code",
      "source": [
        "df.isnull().sum()"
      ],
      "metadata": {
        "colab": {
          "base_uri": "https://localhost:8080/",
          "height": 649
        },
        "id": "SIixz7tALKg8",
        "outputId": "8f5c224f-8d0d-4695-a5d2-370f95fafe7d"
      },
      "execution_count": 12,
      "outputs": [
        {
          "output_type": "execute_result",
          "data": {
            "text/plain": [
              "OrgId                0\n",
              "Timestamp            0\n",
              "DetectorId           0\n",
              "AlertTitle           0\n",
              "Category             0\n",
              "IncidentGrade        0\n",
              "EntityType           0\n",
              "EvidenceRole         0\n",
              "DeviceId             0\n",
              "IpAddress            0\n",
              "Url                  0\n",
              "AccountSid           0\n",
              "AccountName          0\n",
              "RegistryValueName    0\n",
              "ResourceIdName       0\n",
              "CountryCode          0\n",
              "City                 0\n",
              "Usage                0\n",
              "dtype: int64"
            ],
            "text/html": [
              "<div>\n",
              "<style scoped>\n",
              "    .dataframe tbody tr th:only-of-type {\n",
              "        vertical-align: middle;\n",
              "    }\n",
              "\n",
              "    .dataframe tbody tr th {\n",
              "        vertical-align: top;\n",
              "    }\n",
              "\n",
              "    .dataframe thead th {\n",
              "        text-align: right;\n",
              "    }\n",
              "</style>\n",
              "<table border=\"1\" class=\"dataframe\">\n",
              "  <thead>\n",
              "    <tr style=\"text-align: right;\">\n",
              "      <th></th>\n",
              "      <th>0</th>\n",
              "    </tr>\n",
              "  </thead>\n",
              "  <tbody>\n",
              "    <tr>\n",
              "      <th>OrgId</th>\n",
              "      <td>0</td>\n",
              "    </tr>\n",
              "    <tr>\n",
              "      <th>Timestamp</th>\n",
              "      <td>0</td>\n",
              "    </tr>\n",
              "    <tr>\n",
              "      <th>DetectorId</th>\n",
              "      <td>0</td>\n",
              "    </tr>\n",
              "    <tr>\n",
              "      <th>AlertTitle</th>\n",
              "      <td>0</td>\n",
              "    </tr>\n",
              "    <tr>\n",
              "      <th>Category</th>\n",
              "      <td>0</td>\n",
              "    </tr>\n",
              "    <tr>\n",
              "      <th>IncidentGrade</th>\n",
              "      <td>0</td>\n",
              "    </tr>\n",
              "    <tr>\n",
              "      <th>EntityType</th>\n",
              "      <td>0</td>\n",
              "    </tr>\n",
              "    <tr>\n",
              "      <th>EvidenceRole</th>\n",
              "      <td>0</td>\n",
              "    </tr>\n",
              "    <tr>\n",
              "      <th>DeviceId</th>\n",
              "      <td>0</td>\n",
              "    </tr>\n",
              "    <tr>\n",
              "      <th>IpAddress</th>\n",
              "      <td>0</td>\n",
              "    </tr>\n",
              "    <tr>\n",
              "      <th>Url</th>\n",
              "      <td>0</td>\n",
              "    </tr>\n",
              "    <tr>\n",
              "      <th>AccountSid</th>\n",
              "      <td>0</td>\n",
              "    </tr>\n",
              "    <tr>\n",
              "      <th>AccountName</th>\n",
              "      <td>0</td>\n",
              "    </tr>\n",
              "    <tr>\n",
              "      <th>RegistryValueName</th>\n",
              "      <td>0</td>\n",
              "    </tr>\n",
              "    <tr>\n",
              "      <th>ResourceIdName</th>\n",
              "      <td>0</td>\n",
              "    </tr>\n",
              "    <tr>\n",
              "      <th>CountryCode</th>\n",
              "      <td>0</td>\n",
              "    </tr>\n",
              "    <tr>\n",
              "      <th>City</th>\n",
              "      <td>0</td>\n",
              "    </tr>\n",
              "    <tr>\n",
              "      <th>Usage</th>\n",
              "      <td>0</td>\n",
              "    </tr>\n",
              "  </tbody>\n",
              "</table>\n",
              "</div><br><label><b>dtype:</b> int64</label>"
            ]
          },
          "metadata": {},
          "execution_count": 12
        }
      ]
    },
    {
      "cell_type": "code",
      "source": [
        "df.info()"
      ],
      "metadata": {
        "colab": {
          "base_uri": "https://localhost:8080/"
        },
        "id": "ptqauJUgLSX1",
        "outputId": "8fe3d5d9-f6e4-4802-ed04-77ee45e73c9d"
      },
      "execution_count": 13,
      "outputs": [
        {
          "output_type": "stream",
          "name": "stdout",
          "text": [
            "<class 'pandas.core.frame.DataFrame'>\n",
            "Index: 3922695 entries, 0 to 4147990\n",
            "Data columns (total 18 columns):\n",
            " #   Column             Dtype \n",
            "---  ------             ----- \n",
            " 0   OrgId              int64 \n",
            " 1   Timestamp          object\n",
            " 2   DetectorId         int64 \n",
            " 3   AlertTitle         int64 \n",
            " 4   Category           object\n",
            " 5   IncidentGrade      object\n",
            " 6   EntityType         object\n",
            " 7   EvidenceRole       object\n",
            " 8   DeviceId           int64 \n",
            " 9   IpAddress          int64 \n",
            " 10  Url                int64 \n",
            " 11  AccountSid         int64 \n",
            " 12  AccountName        int64 \n",
            " 13  RegistryValueName  int64 \n",
            " 14  ResourceIdName     int64 \n",
            " 15  CountryCode        int64 \n",
            " 16  City               int64 \n",
            " 17  Usage              object\n",
            "dtypes: int64(12), object(6)\n",
            "memory usage: 568.6+ MB\n"
          ]
        }
      ]
    },
    {
      "cell_type": "code",
      "source": [
        "import pandas as pd\n",
        "\n",
        "# Ensure Timestamp column is split into Date and Time\n",
        "df[['Date', 'Time']] = df['Timestamp'].str.replace('T', ' ', regex=False).str.replace('.000Z', '', regex=False).str.split(' ', expand=True)\n",
        "\n",
        "# Drop the original Timestamp column if no longer needed\n",
        "df.drop('Timestamp', axis=1, inplace=True)\n",
        "\n",
        "# Display the updated dataframe\n",
        "print(df.head())"
      ],
      "metadata": {
        "colab": {
          "base_uri": "https://localhost:8080/"
        },
        "id": "KQws9kCLLdXU",
        "outputId": "61b3b809-97a8-411b-d065-f8f56791bab2"
      },
      "execution_count": 14,
      "outputs": [
        {
          "output_type": "stream",
          "name": "stdout",
          "text": [
            "   OrgId  DetectorId  AlertTitle           Category   IncidentGrade  \\\n",
            "0    657         524         563    LateralMovement  BenignPositive   \n",
            "1      3           2           2  CommandAndControl  BenignPositive   \n",
            "2    145        2932       10807    LateralMovement  BenignPositive   \n",
            "3    222           0           0      InitialAccess   FalsePositive   \n",
            "4    363          27          18          Discovery  BenignPositive   \n",
            "\n",
            "          EntityType EvidenceRole  DeviceId  IpAddress     Url  AccountSid  \\\n",
            "0               User     Impacted     98799     360606  160396        2610   \n",
            "1            Machine     Impacted      1239     360606  160396      441377   \n",
            "2            Process      Related     98799     360606  160396      441377   \n",
            "3  CloudLogonSession      Related     98799     360606  160396      441377   \n",
            "4               User     Impacted     98799     360606  160396      133549   \n",
            "\n",
            "   AccountName  RegistryValueName  ResourceIdName  CountryCode   City  \\\n",
            "0          863                635            3586          242  10630   \n",
            "1       453297                635            3586          242  10630   \n",
            "2       453297                635            3586          242  10630   \n",
            "3       453297                635            3586          242  10630   \n",
            "4       136104                635            3586          242  10630   \n",
            "\n",
            "     Usage        Date      Time  \n",
            "0  Private  2024-06-04  22:56:27  \n",
            "1   Public  2024-06-03  12:58:26  \n",
            "2   Public  2024-06-08  03:20:49  \n",
            "3   Public  2024-06-12  12:07:31  \n",
            "4   Public  2024-06-06  17:42:05  \n"
          ]
        }
      ]
    },
    {
      "cell_type": "code",
      "source": [
        "# Extract the 'IncidentGrade' column into df2\n",
        "df2 = df[['IncidentGrade']]\n",
        "\n",
        "# Drop the 'IncidentGrade' column from the original df\n",
        "df = df.drop(columns=['IncidentGrade'])\n",
        "\n",
        "# Display the updated DataFrames\n",
        "print(\"DataFrame df2:\")\n",
        "print(df2)\n",
        "\n",
        "print(\"\\nUpdated DataFrame df:\")\n",
        "print(df)\n"
      ],
      "metadata": {
        "colab": {
          "base_uri": "https://localhost:8080/"
        },
        "id": "oMi3IQKELnH1",
        "outputId": "61a2acbd-849d-4316-8be8-dcbee868b64a"
      },
      "execution_count": 15,
      "outputs": [
        {
          "output_type": "stream",
          "name": "stdout",
          "text": [
            "DataFrame df2:\n",
            "          IncidentGrade\n",
            "0        BenignPositive\n",
            "1        BenignPositive\n",
            "2        BenignPositive\n",
            "3         FalsePositive\n",
            "4        BenignPositive\n",
            "...                 ...\n",
            "4147985  BenignPositive\n",
            "4147987  BenignPositive\n",
            "4147988  BenignPositive\n",
            "4147989   FalsePositive\n",
            "4147990  BenignPositive\n",
            "\n",
            "[3922695 rows x 1 columns]\n",
            "\n",
            "Updated DataFrame df:\n",
            "         OrgId  DetectorId  AlertTitle           Category         EntityType  \\\n",
            "0          657         524         563    LateralMovement               User   \n",
            "1            3           2           2  CommandAndControl            Machine   \n",
            "2          145        2932       10807    LateralMovement            Process   \n",
            "3          222           0           0      InitialAccess  CloudLogonSession   \n",
            "4          363          27          18          Discovery               User   \n",
            "...        ...         ...         ...                ...                ...   \n",
            "4147985     42         135        7322            Malware            Machine   \n",
            "4147987    262         139         120      InitialAccess               User   \n",
            "4147988   1323         219         196      InitialAccess               User   \n",
            "4147989     47          57          29  CommandAndControl                 Ip   \n",
            "4147990     70           1           1      InitialAccess            Mailbox   \n",
            "\n",
            "        EvidenceRole  DeviceId  IpAddress     Url  AccountSid  AccountName  \\\n",
            "0           Impacted     98799     360606  160396        2610          863   \n",
            "1           Impacted      1239     360606  160396      441377       453297   \n",
            "2            Related     98799     360606  160396      441377       453297   \n",
            "3            Related     98799     360606  160396      441377       453297   \n",
            "4           Impacted     98799     360606  160396      133549       136104   \n",
            "...              ...       ...        ...     ...         ...          ...   \n",
            "4147985     Impacted         4     360606  160396      441377       453297   \n",
            "4147987     Impacted     98799     360606  160396       13354        14567   \n",
            "4147988     Impacted     98799     360606  160396       95744       107151   \n",
            "4147989      Related     98799       1084  160396      441377       453297   \n",
            "4147990     Impacted     98799     360606  160396       53146        25428   \n",
            "\n",
            "         RegistryValueName  ResourceIdName  CountryCode   City    Usage  \\\n",
            "0                      635            3586          242  10630  Private   \n",
            "1                      635            3586          242  10630   Public   \n",
            "2                      635            3586          242  10630   Public   \n",
            "3                      635            3586          242  10630   Public   \n",
            "4                      635            3586          242  10630   Public   \n",
            "...                    ...             ...          ...    ...      ...   \n",
            "4147985                635            3586          242  10630   Public   \n",
            "4147987                635            3586          242  10630   Public   \n",
            "4147988                635            3586          242  10630  Private   \n",
            "4147989                635            3586          242  10630   Public   \n",
            "4147990                635            3586          242  10630  Private   \n",
            "\n",
            "               Date      Time  \n",
            "0        2024-06-04  22:56:27  \n",
            "1        2024-06-03  12:58:26  \n",
            "2        2024-06-08  03:20:49  \n",
            "3        2024-06-12  12:07:31  \n",
            "4        2024-06-06  17:42:05  \n",
            "...             ...       ...  \n",
            "4147985  2024-06-03  20:24:41  \n",
            "4147987  2024-06-04  03:53:15  \n",
            "4147988  2024-06-04  19:32:19  \n",
            "4147989  2024-06-15  00:50:22  \n",
            "4147990  2024-06-11  16:18:12  \n",
            "\n",
            "[3922695 rows x 18 columns]\n"
          ]
        }
      ]
    },
    {
      "cell_type": "code",
      "source": [
        "# Get unique values in 'IncidentGrade' for df2 this is target table\n",
        "unique_incident_grades = df2['IncidentGrade'].unique()\n",
        "print(\"Unique values in IncidentGrade:\")\n",
        "print(unique_incident_grades)\n",
        "\n",
        "# Get value counts for 'IncidentGrade' in df2\n",
        "incident_grade_counts = df2['IncidentGrade'].value_counts()\n",
        "print(\"\\nValue counts for IncidentGrade:\")\n",
        "print(incident_grade_counts)\n"
      ],
      "metadata": {
        "colab": {
          "base_uri": "https://localhost:8080/"
        },
        "id": "oNmhxfgXLud9",
        "outputId": "715c239f-a524-4877-b29b-c2999c167b58"
      },
      "execution_count": 16,
      "outputs": [
        {
          "output_type": "stream",
          "name": "stdout",
          "text": [
            "Unique values in IncidentGrade:\n",
            "['BenignPositive' 'FalsePositive' 'TruePositive']\n",
            "\n",
            "Value counts for IncidentGrade:\n",
            "IncidentGrade\n",
            "BenignPositive    1630942\n",
            "TruePositive      1422856\n",
            "FalsePositive      868897\n",
            "Name: count, dtype: int64\n"
          ]
        }
      ]
    },
    {
      "cell_type": "code",
      "source": [
        "import pandas as pd\n",
        "import seaborn as sns\n",
        "import matplotlib.pyplot as plt\n",
        "\n",
        "# Ensure the two DataFrames have the same length\n",
        "if len(df) != len(df2):\n",
        "    raise ValueError(\"The feature DataFrame (df) and target DataFrame (df2) must have the same number of rows.\")\n",
        "\n",
        "# Add the target column to the feature DataFrame\n",
        "df['IncidentGrade'] = pd.factorize(df2['IncidentGrade'])[0]\n",
        "\n",
        "# Convert non-numeric columns in df to numeric using one-hot encoding or factorization\n",
        "for col in df.select_dtypes(include=['object']).columns:\n",
        "    df[col] = pd.factorize(df[col])[0]\n",
        "\n",
        "# Calculate the correlation matrix\n",
        "correlation_matrix = df.corr()\n",
        "\n",
        "# Extract correlations with the target 'IncidentGrade'\n",
        "target_correlations = correlation_matrix['IncidentGrade'].sort_values(ascending=False)\n",
        "\n",
        "# Display the correlations with the target\n",
        "print(\"Correlations with IncidentGrade:\")\n",
        "print(target_correlations)\n",
        "\n",
        "# Plot heatmap for all correlations\n",
        "plt.figure(figsize=(12, 8))\n",
        "sns.heatmap(correlation_matrix, annot=False, cmap='coolwarm', fmt='.2f', cbar=True)\n",
        "plt.title('Correlation Matrix')\n",
        "plt.show()\n",
        "\n",
        "# Plot bar chart for correlation with target\n",
        "plt.figure(figsize=(10, 6))\n",
        "target_correlations.drop('IncidentGrade').plot(kind='bar', color='skyblue')\n",
        "plt.title('Feature Correlation with IncidentGrade')\n",
        "plt.ylabel('Correlation Coefficient')\n",
        "plt.xlabel('Features')\n",
        "plt.xticks(rotation=45)\n",
        "plt.tight_layout()\n",
        "plt.show()\n"
      ],
      "metadata": {
        "colab": {
          "base_uri": "https://localhost:8080/",
          "height": 1000
        },
        "id": "wNA5aLXuL1SN",
        "outputId": "d2d0a518-0509-4358-c4c3-9eb0560083c6"
      },
      "execution_count": 17,
      "outputs": [
        {
          "output_type": "stream",
          "name": "stdout",
          "text": [
            "Correlations with IncidentGrade:\n",
            "IncidentGrade        1.000000\n",
            "EvidenceRole         0.165591\n",
            "Time                 0.093182\n",
            "Url                  0.092276\n",
            "DeviceId             0.088321\n",
            "RegistryValueName    0.020245\n",
            "ResourceIdName       0.019779\n",
            "Usage                0.008991\n",
            "EntityType          -0.020160\n",
            "OrgId               -0.032014\n",
            "Date                -0.062829\n",
            "AccountName         -0.087373\n",
            "AccountSid          -0.108328\n",
            "DetectorId          -0.129639\n",
            "AlertTitle          -0.139754\n",
            "IpAddress           -0.161998\n",
            "City                -0.282935\n",
            "Category            -0.293005\n",
            "CountryCode         -0.309924\n",
            "Name: IncidentGrade, dtype: float64\n"
          ]
        },
        {
          "output_type": "display_data",
          "data": {
            "text/plain": [
              "<Figure size 1200x800 with 2 Axes>"
            ],
            "image/png": "[encoded data removed]"
          },
          "metadata": {}
        },
        {
          "output_type": "display_data",
          "data": {
            "text/plain": [
              "<Figure size 1000x600 with 1 Axes>"
            ],
            "image/png": "[encoded data removed]"
          },
          "metadata": {}
        }
      ]
    },
    {
      "cell_type": "code",
      "source": [
        "import seaborn as sns\n",
        "import matplotlib.pyplot as plt\n",
        "\n",
        "# Distribution of the target variable\n",
        "sns.countplot(x=\"IncidentGrade\", data=df2)  # Use 'x' to specify the column name\n",
        "plt.title(\"Distribution of IncidentGrade\")\n",
        "plt.xlabel(\"IncidentGrade\")\n",
        "plt.ylabel(\"Count\")\n",
        "plt.xticks(rotation=45)\n",
        "plt.show()\n"
      ],
      "metadata": {
        "colab": {
          "base_uri": "https://localhost:8080/",
          "height": 540
        },
        "id": "opZuSknpMDaE",
        "outputId": "26dccefe-6491-4c04-93fc-631f834d3c25"
      },
      "execution_count": 18,
      "outputs": [
        {
          "output_type": "display_data",
          "data": {
            "text/plain": [
              "<Figure size 640x480 with 1 Axes>"
            ],
            "image/png": "[encoded data removed]"
          },
          "metadata": {}
        }
      ]
    },
    {
      "cell_type": "code",
      "source": [
        "import pandas as pd\n",
        "import numpy as np\n",
        "from sklearn.ensemble import RandomForestClassifier\n",
        "from sklearn.model_selection import train_test_split\n",
        "from sklearn.metrics import classification_report, confusion_matrix, accuracy_score\n",
        "\n",
        "# Step 1: Prepare the data\n",
        "# Assume `df` contains the features and `df2` contains the target\n",
        "df['IncidentGrade'] = pd.factorize(df2['IncidentGrade'])[0]  # Convert target to numeric\n",
        "\n",
        "# Separate features and target\n",
        "X = df.drop(columns=['IncidentGrade'])  # Features\n",
        "y = df['IncidentGrade']  # Target\n",
        "\n",
        "# Convert non-numeric columns to numeric using one-hot encoding or factorization\n",
        "for col in X.select_dtypes(include=['object']).columns:\n",
        "    X[col] = pd.factorize(X[col])[0]\n",
        "\n",
        "# Step 2: Split the data\n",
        "X_train, X_test, y_train, y_test = train_test_split(X, y, test_size=0.3, random_state=42)\n",
        "\n",
        "# Step 3: Train the RandomForestClassifier\n",
        "clf = RandomForestClassifier(n_estimators=100, random_state=42)\n",
        "clf.fit(X_train, y_train)\n",
        "\n",
        "# Step 4: Make predictions\n",
        "y_pred = clf.predict(X_test)\n",
        "\n",
        "# Step 5: Evaluate the model\n",
        "print(\"Confusion Matrix:\")\n",
        "print(confusion_matrix(y_test, y_pred))\n",
        "\n",
        "print(\"\\nClassification Report:\")\n",
        "print(classification_report(y_test, y_pred))\n",
        "\n",
        "print(\"\\nAccuracy Score:\")\n",
        "print(accuracy_score(y_test, y_pred))\n",
        "\n",
        "# Step 6: Feature importance (optional)\n",
        "feature_importance = pd.DataFrame({\n",
        "    'Feature': X.columns,\n",
        "    'Importance': clf.feature_importances_\n",
        "}).sort_values(by='Importance', ascending=False)\n",
        "\n",
        "print(\"\\nFeature Importance:\")\n",
        "print(feature_importance)\n"
      ],
      "metadata": {
        "colab": {
          "base_uri": "https://localhost:8080/"
        },
        "id": "BXH839vaMIAk",
        "outputId": "ce91bb41-e2dd-498f-ea57-e907c1d97d91"
      },
      "execution_count": 19,
      "outputs": [
        {
          "output_type": "stream",
          "name": "stdout",
          "text": [
            "Confusion Matrix:\n",
            "[[478139   5395   5358]\n",
            " [  8859 246351   5368]\n",
            " [  9864   5577 411898]]\n",
            "\n",
            "Classification Report:\n",
            "              precision    recall  f1-score   support\n",
            "\n",
            "           0       0.96      0.98      0.97    488892\n",
            "           1       0.96      0.95      0.95    260578\n",
            "           2       0.97      0.96      0.97    427339\n",
            "\n",
            "    accuracy                           0.97   1176809\n",
            "   macro avg       0.96      0.96      0.96   1176809\n",
            "weighted avg       0.97      0.97      0.97   1176809\n",
            "\n",
            "\n",
            "Accuracy Score:\n",
            "0.9656520301935149\n",
            "\n",
            "Feature Importance:\n",
            "              Feature  Importance\n",
            "0               OrgId    0.374438\n",
            "1          DetectorId    0.150709\n",
            "2          AlertTitle    0.127403\n",
            "17               Time    0.076729\n",
            "16               Date    0.055967\n",
            "3            Category    0.053504\n",
            "9          AccountSid    0.032925\n",
            "10        AccountName    0.025881\n",
            "7           IpAddress    0.023801\n",
            "4          EntityType    0.020705\n",
            "13        CountryCode    0.013095\n",
            "14               City    0.012844\n",
            "8                 Url    0.010882\n",
            "15              Usage    0.008146\n",
            "6            DeviceId    0.006935\n",
            "5        EvidenceRole    0.005717\n",
            "12     ResourceIdName    0.000165\n",
            "11  RegistryValueName    0.000153\n"
          ]
        }
      ]
    }
  ]
}
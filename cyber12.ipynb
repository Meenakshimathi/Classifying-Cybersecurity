{
  "nbformat": 4,
  "nbformat_minor": 0,
  "metadata": {
    "colab": {
      "provenance": [],
      "gpuType": "T4"
    },
    "kernelspec": {
      "name": "python3",
      "display_name": "Python 3"
    },
    "language_info": {
      "name": "python"
    },
    "accelerator": "GPU"
  },
  "cells": [
    {
      "cell_type": "code",
      "source": [
        "import pandas as pd\n",
        "import numpy as np\n",
        "import matplotlib.pyplot as plt\n",
        "import seaborn as sns\n",
        "import warnings\n",
        "warnings.filterwarnings('ignore')"
      ],
      "metadata": {
        "id": "tmnGnwyS40X7"
      },
      "execution_count": 2,
      "outputs": []
    },
    {
      "cell_type": "code",
      "source": [
        "import os\n",
        "import pickle\n",
        "import re\n",
        "\n",
        "\n"
      ],
      "metadata": {
        "id": "APshCD7--xsv"
      },
      "execution_count": 3,
      "outputs": []
    },
    {
      "cell_type": "code",
      "source": [
        "from sklearn.ensemble import RandomForestClassifier\n",
        "from sklearn.tree import DecisionTreeClassifier\n",
        "import xgboost\n",
        "from sklearn.model_selection import train_test_split,cross_val_score,GridSearchCV,RandomizedSearchCV\n",
        "from sklearn.metrics import precision_score,f1_score,recall_score,classification_report,accuracy_score\n",
        "import joblib\n",
        "from imblearn.over_sampling import SMOTE\n",
        "from tqdm import tqdm"
      ],
      "metadata": {
        "id": "pz8QqO_r10Xv"
      },
      "execution_count": 4,
      "outputs": []
    },
    {
      "cell_type": "code",
      "source": [
        "from google.colab import drive\n",
        "drive.mount('/content/drive')\n"
      ],
      "metadata": {
        "colab": {
          "base_uri": "https://localhost:8080/"
        },
        "id": "-fon0_vpBErE",
        "outputId": "4e464cff-04e3-46ac-efa0-4c7b774e3ec4"
      },
      "execution_count": 5,
      "outputs": [
        {
          "output_type": "stream",
          "name": "stdout",
          "text": [
            "Mounted at /content/drive\n"
          ]
        }
      ]
    },
    {
      "cell_type": "code",
      "source": [
        "file_path = '/content/drive/My Drive/FolderName/new_train_sample.csv'\n"
      ],
      "metadata": {
        "id": "xXwW8ZFTSBj0"
      },
      "execution_count": 6,
      "outputs": []
    },
    {
      "cell_type": "code",
      "source": [
        "!ls /content/drive/My\\ Drive\n"
      ],
      "metadata": {
        "colab": {
          "base_uri": "https://localhost:8080/"
        },
        "id": "lZLl1kMnSGVp",
        "outputId": "83a2ac1a-7075-44f2-b146-fe2282e11c8f"
      },
      "execution_count": 7,
      "outputs": [
        {
          "output_type": "stream",
          "name": "stdout",
          "text": [
            "'Colab Notebooks'\t\t  'Hacker Rank Complete Problems with Solution.gdoc'\n",
            "'Copy of Copy of itp_day2.ipynb'   new_train_sample.csv\n"
          ]
        }
      ]
    },
    {
      "cell_type": "code",
      "source": [
        "from google.colab import drive\n",
        "drive.mount('/content/drive', force_remount=True)\n"
      ],
      "metadata": {
        "colab": {
          "base_uri": "https://localhost:8080/"
        },
        "id": "-gCDubFYSM_x",
        "outputId": "7e3873e4-11e9-4e2c-a517-c8d6d8d7febf"
      },
      "execution_count": 8,
      "outputs": [
        {
          "output_type": "stream",
          "name": "stdout",
          "text": [
            "Mounted at /content/drive\n"
          ]
        }
      ]
    },
    {
      "cell_type": "code",
      "source": [
        "from google.colab import drive\n",
        "drive.mount('/content/drive')\n",
        "\n",
        "# Verify folder structure\n",
        "!ls /content/drive/My\\ Drive\n",
        "\n",
        "# Correct path to your file\n",
        "file_path = '/content/drive/My Drive/FolderName/new_train_sample.csv'\n",
        "\n",
        "# Read the CSV\n",
        "import pandas as pd\n",
        "df = pd.read_csv('/content/drive/MyDrive/new_train_sample.csv')\n",
        "print(df.head())\n"
      ],
      "metadata": {
        "colab": {
          "base_uri": "https://localhost:8080/"
        },
        "id": "cUm_kYTLTJ2C",
        "outputId": "b04d039a-bd43-4208-a2ae-6fedb9ac0dfe"
      },
      "execution_count": 9,
      "outputs": [
        {
          "output_type": "stream",
          "name": "stdout",
          "text": [
            "Drive already mounted at /content/drive; to attempt to forcibly remount, call drive.mount(\"/content/drive\", force_remount=True).\n",
            "'Colab Notebooks'\t\t  'Hacker Rank Complete Problems with Solution.gdoc'\n",
            "'Copy of Copy of itp_day2.ipynb'   new_train_sample.csv\n",
            "   Unnamed: 0             Id  OrgId  IncidentId  AlertId  \\\n",
            "0     5172780  1709396985476     26       18583   687462   \n",
            "1     8470561   927712939180     33        5065     3990   \n",
            "2     5897583  1090921697002    201      150787   807590   \n",
            "3     3288552  1434519079555    204      108287    28575   \n",
            "4     4060961  1005022347708     54      528202  1458226   \n",
            "\n",
            "                  Timestamp  DetectorId  AlertTitle            Category  \\\n",
            "0  2024-06-06T05:56:47.000Z          31         813             Malware   \n",
            "1  2024-06-03T10:45:09.000Z          38          25              Impact   \n",
            "2  2024-06-13T03:36:40.000Z         419         444           Execution   \n",
            "3  2024-06-08T16:54:57.000Z          44        1233  SuspiciousActivity   \n",
            "4  2024-06-09T02:48:01.000Z         102       58829        Exfiltration   \n",
            "\n",
            "                                     MitreTechniques  ... ResourceType  \\\n",
            "0                                                NaN  ...          NaN   \n",
            "1                                                NaN  ...          NaN   \n",
            "2  T1047;T1059;T1053;T1569;T1059.001;T1053.002;T1...  ...          NaN   \n",
            "3                                                NaN  ...          NaN   \n",
            "4                                                NaN  ...          NaN   \n",
            "\n",
            "         Roles OSFamily OSVersion AntispamDirection  SuspicionLevel  \\\n",
            "0          NaN        5        66               NaN      Suspicious   \n",
            "1          NaN        5        66               NaN             NaN   \n",
            "2  Destination        5        66               NaN             NaN   \n",
            "3          NaN        5        66               NaN      Suspicious   \n",
            "4          NaN        5        66               NaN             NaN   \n",
            "\n",
            "   LastVerdict  CountryCode  State   City  \n",
            "0    Malicious          242   1445  10630  \n",
            "1          NaN          242   1445  10630  \n",
            "2          NaN          242   1445  10630  \n",
            "3   Suspicious          242   1445  10630  \n",
            "4          NaN          242   1445  10630  \n",
            "\n",
            "[5 rows x 46 columns]\n"
          ]
        }
      ]
    },
    {
      "cell_type": "code",
      "source": [
        "df.isnull().sum()"
      ],
      "metadata": {
        "colab": {
          "base_uri": "https://localhost:8080/",
          "height": 1000
        },
        "id": "ZaPHKWemUPqc",
        "outputId": "99757990-d2ea-48ab-c804-b58130ef6f94"
      },
      "execution_count": 10,
      "outputs": [
        {
          "output_type": "execute_result",
          "data": {
            "text/plain": [
              "Unnamed: 0                  0\n",
              "Id                          0\n",
              "OrgId                       0\n",
              "IncidentId                  0\n",
              "AlertId                     0\n",
              "Timestamp                   0\n",
              "DetectorId                  0\n",
              "AlertTitle                  0\n",
              "Category                    0\n",
              "MitreTechniques       2733136\n",
              "IncidentGrade           25775\n",
              "ActionGrouped         4730205\n",
              "ActionGranular        4730205\n",
              "EntityType                  0\n",
              "EvidenceRole                0\n",
              "DeviceId                    0\n",
              "Sha256                      0\n",
              "IpAddress                   0\n",
              "Url                         0\n",
              "AccountSid                  0\n",
              "AccountUpn                  0\n",
              "AccountObjectId             0\n",
              "AccountName                 0\n",
              "DeviceName                  0\n",
              "NetworkMessageId            0\n",
              "EmailClusterId        4710241\n",
              "RegistryKey                 0\n",
              "RegistryValueName           0\n",
              "RegistryValueData           0\n",
              "ApplicationId               0\n",
              "ApplicationName             0\n",
              "OAuthApplicationId          0\n",
              "ThreatFamily          4721038\n",
              "FileName                    0\n",
              "FolderPath                  0\n",
              "ResourceIdName              0\n",
              "ResourceType          4754863\n",
              "Roles                 4649117\n",
              "OSFamily                    0\n",
              "OSVersion                   0\n",
              "AntispamDirection     4669846\n",
              "SuspicionLevel        4037145\n",
              "LastVerdict           3642221\n",
              "CountryCode                 0\n",
              "State                       0\n",
              "City                        0\n",
              "dtype: int64"
            ],
            "text/html": [
              "<div>\n",
              "<style scoped>\n",
              "    .dataframe tbody tr th:only-of-type {\n",
              "        vertical-align: middle;\n",
              "    }\n",
              "\n",
              "    .dataframe tbody tr th {\n",
              "        vertical-align: top;\n",
              "    }\n",
              "\n",
              "    .dataframe thead th {\n",
              "        text-align: right;\n",
              "    }\n",
              "</style>\n",
              "<table border=\"1\" class=\"dataframe\">\n",
              "  <thead>\n",
              "    <tr style=\"text-align: right;\">\n",
              "      <th></th>\n",
              "      <th>0</th>\n",
              "    </tr>\n",
              "  </thead>\n",
              "  <tbody>\n",
              "    <tr>\n",
              "      <th>Unnamed: 0</th>\n",
              "      <td>0</td>\n",
              "    </tr>\n",
              "    <tr>\n",
              "      <th>Id</th>\n",
              "      <td>0</td>\n",
              "    </tr>\n",
              "    <tr>\n",
              "      <th>OrgId</th>\n",
              "      <td>0</td>\n",
              "    </tr>\n",
              "    <tr>\n",
              "      <th>IncidentId</th>\n",
              "      <td>0</td>\n",
              "    </tr>\n",
              "    <tr>\n",
              "      <th>AlertId</th>\n",
              "      <td>0</td>\n",
              "    </tr>\n",
              "    <tr>\n",
              "      <th>Timestamp</th>\n",
              "      <td>0</td>\n",
              "    </tr>\n",
              "    <tr>\n",
              "      <th>DetectorId</th>\n",
              "      <td>0</td>\n",
              "    </tr>\n",
              "    <tr>\n",
              "      <th>AlertTitle</th>\n",
              "      <td>0</td>\n",
              "    </tr>\n",
              "    <tr>\n",
              "      <th>Category</th>\n",
              "      <td>0</td>\n",
              "    </tr>\n",
              "    <tr>\n",
              "      <th>MitreTechniques</th>\n",
              "      <td>2733136</td>\n",
              "    </tr>\n",
              "    <tr>\n",
              "      <th>IncidentGrade</th>\n",
              "      <td>25775</td>\n",
              "    </tr>\n",
              "    <tr>\n",
              "      <th>ActionGrouped</th>\n",
              "      <td>4730205</td>\n",
              "    </tr>\n",
              "    <tr>\n",
              "      <th>ActionGranular</th>\n",
              "      <td>4730205</td>\n",
              "    </tr>\n",
              "    <tr>\n",
              "      <th>EntityType</th>\n",
              "      <td>0</td>\n",
              "    </tr>\n",
              "    <tr>\n",
              "      <th>EvidenceRole</th>\n",
              "      <td>0</td>\n",
              "    </tr>\n",
              "    <tr>\n",
              "      <th>DeviceId</th>\n",
              "      <td>0</td>\n",
              "    </tr>\n",
              "    <tr>\n",
              "      <th>Sha256</th>\n",
              "      <td>0</td>\n",
              "    </tr>\n",
              "    <tr>\n",
              "      <th>IpAddress</th>\n",
              "      <td>0</td>\n",
              "    </tr>\n",
              "    <tr>\n",
              "      <th>Url</th>\n",
              "      <td>0</td>\n",
              "    </tr>\n",
              "    <tr>\n",
              "      <th>AccountSid</th>\n",
              "      <td>0</td>\n",
              "    </tr>\n",
              "    <tr>\n",
              "      <th>AccountUpn</th>\n",
              "      <td>0</td>\n",
              "    </tr>\n",
              "    <tr>\n",
              "      <th>AccountObjectId</th>\n",
              "      <td>0</td>\n",
              "    </tr>\n",
              "    <tr>\n",
              "      <th>AccountName</th>\n",
              "      <td>0</td>\n",
              "    </tr>\n",
              "    <tr>\n",
              "      <th>DeviceName</th>\n",
              "      <td>0</td>\n",
              "    </tr>\n",
              "    <tr>\n",
              "      <th>NetworkMessageId</th>\n",
              "      <td>0</td>\n",
              "    </tr>\n",
              "    <tr>\n",
              "      <th>EmailClusterId</th>\n",
              "      <td>4710241</td>\n",
              "    </tr>\n",
              "    <tr>\n",
              "      <th>RegistryKey</th>\n",
              "      <td>0</td>\n",
              "    </tr>\n",
              "    <tr>\n",
              "      <th>RegistryValueName</th>\n",
              "      <td>0</td>\n",
              "    </tr>\n",
              "    <tr>\n",
              "      <th>RegistryValueData</th>\n",
              "      <td>0</td>\n",
              "    </tr>\n",
              "    <tr>\n",
              "      <th>ApplicationId</th>\n",
              "      <td>0</td>\n",
              "    </tr>\n",
              "    <tr>\n",
              "      <th>ApplicationName</th>\n",
              "      <td>0</td>\n",
              "    </tr>\n",
              "    <tr>\n",
              "      <th>OAuthApplicationId</th>\n",
              "      <td>0</td>\n",
              "    </tr>\n",
              "    <tr>\n",
              "      <th>ThreatFamily</th>\n",
              "      <td>4721038</td>\n",
              "    </tr>\n",
              "    <tr>\n",
              "      <th>FileName</th>\n",
              "      <td>0</td>\n",
              "    </tr>\n",
              "    <tr>\n",
              "      <th>FolderPath</th>\n",
              "      <td>0</td>\n",
              "    </tr>\n",
              "    <tr>\n",
              "      <th>ResourceIdName</th>\n",
              "      <td>0</td>\n",
              "    </tr>\n",
              "    <tr>\n",
              "      <th>ResourceType</th>\n",
              "      <td>4754863</td>\n",
              "    </tr>\n",
              "    <tr>\n",
              "      <th>Roles</th>\n",
              "      <td>4649117</td>\n",
              "    </tr>\n",
              "    <tr>\n",
              "      <th>OSFamily</th>\n",
              "      <td>0</td>\n",
              "    </tr>\n",
              "    <tr>\n",
              "      <th>OSVersion</th>\n",
              "      <td>0</td>\n",
              "    </tr>\n",
              "    <tr>\n",
              "      <th>AntispamDirection</th>\n",
              "      <td>4669846</td>\n",
              "    </tr>\n",
              "    <tr>\n",
              "      <th>SuspicionLevel</th>\n",
              "      <td>4037145</td>\n",
              "    </tr>\n",
              "    <tr>\n",
              "      <th>LastVerdict</th>\n",
              "      <td>3642221</td>\n",
              "    </tr>\n",
              "    <tr>\n",
              "      <th>CountryCode</th>\n",
              "      <td>0</td>\n",
              "    </tr>\n",
              "    <tr>\n",
              "      <th>State</th>\n",
              "      <td>0</td>\n",
              "    </tr>\n",
              "    <tr>\n",
              "      <th>City</th>\n",
              "      <td>0</td>\n",
              "    </tr>\n",
              "  </tbody>\n",
              "</table>\n",
              "</div><br><label><b>dtype:</b> int64</label>"
            ]
          },
          "metadata": {},
          "execution_count": 10
        }
      ]
    },
    {
      "cell_type": "code",
      "source": [
        "threshold = len(df) * 0.5\n",
        "df.dropna(axis=1, thresh=threshold,inplace=True)\n",
        "\n",
        "print(df.nunique())\n",
        "# Discard columns that contain only a single unique value.\n",
        "df = df.loc[:, df.nunique() > 1]\n",
        "\n",
        "# Checking for duplicate rows and drop those rows\n",
        "print(df.duplicated().sum())\n",
        "df.drop_duplicates(keep='first',inplace=True)\n",
        "print(df.duplicated().sum())"
      ],
      "metadata": {
        "colab": {
          "base_uri": "https://localhost:8080/"
        },
        "id": "dmlzxOCVW5IS",
        "outputId": "5205d765-1096-4504-de44-9cd429109dea"
      },
      "execution_count": 11,
      "outputs": [
        {
          "output_type": "stream",
          "name": "stdout",
          "text": [
            "Unnamed: 0            4758418\n",
            "Id                     657035\n",
            "OrgId                    5607\n",
            "IncidentId             432289\n",
            "AlertId               1163873\n",
            "Timestamp              723647\n",
            "DetectorId               7908\n",
            "AlertTitle              80121\n",
            "Category                   20\n",
            "IncidentGrade               3\n",
            "EntityType                 31\n",
            "EvidenceRole                2\n",
            "DeviceId                55410\n",
            "Sha256                  73078\n",
            "IpAddress              195384\n",
            "Url                     85332\n",
            "AccountSid             270273\n",
            "AccountUpn             398767\n",
            "AccountObjectId        262205\n",
            "AccountName            276656\n",
            "DeviceName              81164\n",
            "NetworkMessageId       260032\n",
            "RegistryKey               937\n",
            "RegistryValueName         401\n",
            "RegistryValueData         496\n",
            "ApplicationId            1003\n",
            "ApplicationName          1610\n",
            "OAuthApplicationId        416\n",
            "FileName               142641\n",
            "FolderPath              59652\n",
            "ResourceIdName           1516\n",
            "OSFamily                    6\n",
            "OSVersion                  48\n",
            "CountryCode               212\n",
            "State                    1197\n",
            "City                     7107\n",
            "dtype: int64\n",
            "0\n",
            "0\n"
          ]
        }
      ]
    },
    {
      "cell_type": "code",
      "source": [
        "# Inspect columns\n",
        "print(\"Columns in the dataframe:\", df.columns.tolist())\n",
        "\n",
        "# Drop only existing columns\n",
        "columns_to_drop = ['Unnamed: 0', 'IncidentId', 'AlertId', 'Id', 'AccountUpn', 'OSVersion',\n",
        "                   'EmailClusterId', 'NetworkMessageId', 'AccountObjectId', 'DeviceName',\n",
        "                   'Sha256', 'OSFamily', 'FolderPath', 'FileName', 'OAuthApplicationId',\n",
        "                   'ApplicationName', 'ApplicationId', 'RegistryValueData','State','AccountName'\n",
        "                   'RegistryValueName', 'RegistryKey']\n",
        "\n",
        "df.drop(columns=[col for col in columns_to_drop if col in df.columns], inplace=True)\n",
        "\n",
        "# Verify remaining columns\n",
        "print(\"Remaining columns:\", df.columns.tolist())\n"
      ],
      "metadata": {
        "colab": {
          "base_uri": "https://localhost:8080/"
        },
        "id": "g3uUUXc5lDyn",
        "outputId": "c0863178-8be6-4410-c025-9ee0aeb9d885"
      },
      "execution_count": 12,
      "outputs": [
        {
          "output_type": "stream",
          "name": "stdout",
          "text": [
            "Columns in the dataframe: ['Unnamed: 0', 'Id', 'OrgId', 'IncidentId', 'AlertId', 'Timestamp', 'DetectorId', 'AlertTitle', 'Category', 'IncidentGrade', 'EntityType', 'EvidenceRole', 'DeviceId', 'Sha256', 'IpAddress', 'Url', 'AccountSid', 'AccountUpn', 'AccountObjectId', 'AccountName', 'DeviceName', 'NetworkMessageId', 'RegistryKey', 'RegistryValueName', 'RegistryValueData', 'ApplicationId', 'ApplicationName', 'OAuthApplicationId', 'FileName', 'FolderPath', 'ResourceIdName', 'OSFamily', 'OSVersion', 'CountryCode', 'State', 'City']\n",
            "Remaining columns: ['OrgId', 'Timestamp', 'DetectorId', 'AlertTitle', 'Category', 'IncidentGrade', 'EntityType', 'EvidenceRole', 'DeviceId', 'IpAddress', 'Url', 'AccountSid', 'AccountName', 'RegistryValueName', 'ResourceIdName', 'CountryCode', 'City']\n"
          ]
        }
      ]
    },
    {
      "cell_type": "code",
      "source": [
        "df.info()"
      ],
      "metadata": {
        "colab": {
          "base_uri": "https://localhost:8080/"
        },
        "id": "k16AvNvxlSVV",
        "outputId": "50d3de6e-8779-42f1-f889-245424368d8c"
      },
      "execution_count": 13,
      "outputs": [
        {
          "output_type": "stream",
          "name": "stdout",
          "text": [
            "<class 'pandas.core.frame.DataFrame'>\n",
            "RangeIndex: 4758418 entries, 0 to 4758417\n",
            "Data columns (total 17 columns):\n",
            " #   Column             Dtype \n",
            "---  ------             ----- \n",
            " 0   OrgId              int64 \n",
            " 1   Timestamp          object\n",
            " 2   DetectorId         int64 \n",
            " 3   AlertTitle         int64 \n",
            " 4   Category           object\n",
            " 5   IncidentGrade      object\n",
            " 6   EntityType         object\n",
            " 7   EvidenceRole       object\n",
            " 8   DeviceId           int64 \n",
            " 9   IpAddress          int64 \n",
            " 10  Url                int64 \n",
            " 11  AccountSid         int64 \n",
            " 12  AccountName        int64 \n",
            " 13  RegistryValueName  int64 \n",
            " 14  ResourceIdName     int64 \n",
            " 15  CountryCode        int64 \n",
            " 16  City               int64 \n",
            "dtypes: int64(12), object(5)\n",
            "memory usage: 617.2+ MB\n"
          ]
        }
      ]
    },
    {
      "cell_type": "code",
      "source": [
        "df.isnull().sum()"
      ],
      "metadata": {
        "colab": {
          "base_uri": "https://localhost:8080/",
          "height": 617
        },
        "id": "GYXXTgoelgkn",
        "outputId": "9b12e196-c41b-4946-9085-093e728832cf"
      },
      "execution_count": 14,
      "outputs": [
        {
          "output_type": "execute_result",
          "data": {
            "text/plain": [
              "OrgId                    0\n",
              "Timestamp                0\n",
              "DetectorId               0\n",
              "AlertTitle               0\n",
              "Category                 0\n",
              "IncidentGrade        25775\n",
              "EntityType               0\n",
              "EvidenceRole             0\n",
              "DeviceId                 0\n",
              "IpAddress                0\n",
              "Url                      0\n",
              "AccountSid               0\n",
              "AccountName              0\n",
              "RegistryValueName        0\n",
              "ResourceIdName           0\n",
              "CountryCode              0\n",
              "City                     0\n",
              "dtype: int64"
            ],
            "text/html": [
              "<div>\n",
              "<style scoped>\n",
              "    .dataframe tbody tr th:only-of-type {\n",
              "        vertical-align: middle;\n",
              "    }\n",
              "\n",
              "    .dataframe tbody tr th {\n",
              "        vertical-align: top;\n",
              "    }\n",
              "\n",
              "    .dataframe thead th {\n",
              "        text-align: right;\n",
              "    }\n",
              "</style>\n",
              "<table border=\"1\" class=\"dataframe\">\n",
              "  <thead>\n",
              "    <tr style=\"text-align: right;\">\n",
              "      <th></th>\n",
              "      <th>0</th>\n",
              "    </tr>\n",
              "  </thead>\n",
              "  <tbody>\n",
              "    <tr>\n",
              "      <th>OrgId</th>\n",
              "      <td>0</td>\n",
              "    </tr>\n",
              "    <tr>\n",
              "      <th>Timestamp</th>\n",
              "      <td>0</td>\n",
              "    </tr>\n",
              "    <tr>\n",
              "      <th>DetectorId</th>\n",
              "      <td>0</td>\n",
              "    </tr>\n",
              "    <tr>\n",
              "      <th>AlertTitle</th>\n",
              "      <td>0</td>\n",
              "    </tr>\n",
              "    <tr>\n",
              "      <th>Category</th>\n",
              "      <td>0</td>\n",
              "    </tr>\n",
              "    <tr>\n",
              "      <th>IncidentGrade</th>\n",
              "      <td>25775</td>\n",
              "    </tr>\n",
              "    <tr>\n",
              "      <th>EntityType</th>\n",
              "      <td>0</td>\n",
              "    </tr>\n",
              "    <tr>\n",
              "      <th>EvidenceRole</th>\n",
              "      <td>0</td>\n",
              "    </tr>\n",
              "    <tr>\n",
              "      <th>DeviceId</th>\n",
              "      <td>0</td>\n",
              "    </tr>\n",
              "    <tr>\n",
              "      <th>IpAddress</th>\n",
              "      <td>0</td>\n",
              "    </tr>\n",
              "    <tr>\n",
              "      <th>Url</th>\n",
              "      <td>0</td>\n",
              "    </tr>\n",
              "    <tr>\n",
              "      <th>AccountSid</th>\n",
              "      <td>0</td>\n",
              "    </tr>\n",
              "    <tr>\n",
              "      <th>AccountName</th>\n",
              "      <td>0</td>\n",
              "    </tr>\n",
              "    <tr>\n",
              "      <th>RegistryValueName</th>\n",
              "      <td>0</td>\n",
              "    </tr>\n",
              "    <tr>\n",
              "      <th>ResourceIdName</th>\n",
              "      <td>0</td>\n",
              "    </tr>\n",
              "    <tr>\n",
              "      <th>CountryCode</th>\n",
              "      <td>0</td>\n",
              "    </tr>\n",
              "    <tr>\n",
              "      <th>City</th>\n",
              "      <td>0</td>\n",
              "    </tr>\n",
              "  </tbody>\n",
              "</table>\n",
              "</div><br><label><b>dtype:</b> int64</label>"
            ]
          },
          "metadata": {},
          "execution_count": 14
        }
      ]
    },
    {
      "cell_type": "code",
      "source": [
        "# Fill null values in 'IncidentGrade' with the previous (forward fill) values\n",
        "df['IncidentGrade'] = df['IncidentGrade'].fillna(method='ffill')"
      ],
      "metadata": {
        "id": "rn9nhY39mTCe"
      },
      "execution_count": 15,
      "outputs": []
    },
    {
      "cell_type": "code",
      "source": [],
      "metadata": {
        "id": "qh71gNXWhMzI"
      },
      "execution_count": null,
      "outputs": []
    },
    {
      "cell_type": "code",
      "source": [
        "import pandas as pd\n",
        "\n",
        "# Ensure Timestamp column is split into Date and Time\n",
        "df[['Date', 'Time']] = df['Timestamp'].str.replace('T', ' ', regex=False).str.replace('.000Z', '', regex=False).str.split(' ', expand=True)\n",
        "\n",
        "# Drop the original Timestamp column if no longer needed\n",
        "df.drop('Timestamp', axis=1, inplace=True)\n",
        "\n",
        "# Display the updated dataframe\n",
        "print(df.head())\n"
      ],
      "metadata": {
        "colab": {
          "base_uri": "https://localhost:8080/"
        },
        "id": "Cs2UykPrs0Yl",
        "outputId": "dc6d1ba8-37b0-4921-9adf-0a2e6d607d44"
      },
      "execution_count": 16,
      "outputs": [
        {
          "output_type": "stream",
          "name": "stdout",
          "text": [
            "   OrgId  DetectorId  AlertTitle            Category   IncidentGrade  \\\n",
            "0     26          31         813             Malware  BenignPositive   \n",
            "1     33          38          25              Impact  BenignPositive   \n",
            "2    201         419         444           Execution  BenignPositive   \n",
            "3    204          44        1233  SuspiciousActivity    TruePositive   \n",
            "4     54         102       58829        Exfiltration  BenignPositive   \n",
            "\n",
            "  EntityType EvidenceRole  DeviceId  IpAddress     Url  AccountSid  \\\n",
            "0       File      Related     98799     360606  160396      441377   \n",
            "1    Machine     Impacted     98799     360606  160396      441377   \n",
            "2    Machine     Impacted     98799     360606  160396      441377   \n",
            "3       File      Related     98799     360606  160396      441377   \n",
            "4       File     Impacted     98799     360606  160396      441377   \n",
            "\n",
            "   AccountName  RegistryValueName  ResourceIdName  CountryCode   City  \\\n",
            "0       453297                635            3586          242  10630   \n",
            "1       453297                635            3586          242  10630   \n",
            "2       453297                635            3586          242  10630   \n",
            "3       453297                635            3586          242  10630   \n",
            "4       453297                635            3586          242  10630   \n",
            "\n",
            "         Date      Time  \n",
            "0  2024-06-06  05:56:47  \n",
            "1  2024-06-03  10:45:09  \n",
            "2  2024-06-13  03:36:40  \n",
            "3  2024-06-08  16:54:57  \n",
            "4  2024-06-09  02:48:01  \n"
          ]
        }
      ]
    },
    {
      "cell_type": "code",
      "source": [
        "# Extract the 'IncidentGrade' column into df2\n",
        "df2 = df[['IncidentGrade']]\n",
        "\n",
        "# Drop the 'IncidentGrade' column from the original df\n",
        "df = df.drop(columns=['IncidentGrade'])\n",
        "\n",
        "# Display the updated DataFrames\n",
        "print(\"DataFrame df2:\")\n",
        "print(df2)\n",
        "\n",
        "print(\"\\nUpdated DataFrame df:\")\n",
        "print(df)\n"
      ],
      "metadata": {
        "colab": {
          "base_uri": "https://localhost:8080/"
        },
        "id": "Xwe1YqhLikI3",
        "outputId": "d7bc2ad8-eeb8-441c-a887-76c966c71544"
      },
      "execution_count": 17,
      "outputs": [
        {
          "output_type": "stream",
          "name": "stdout",
          "text": [
            "DataFrame df2:\n",
            "          IncidentGrade\n",
            "0        BenignPositive\n",
            "1        BenignPositive\n",
            "2        BenignPositive\n",
            "3          TruePositive\n",
            "4        BenignPositive\n",
            "...                 ...\n",
            "4758413   FalsePositive\n",
            "4758414   FalsePositive\n",
            "4758415  BenignPositive\n",
            "4758416  BenignPositive\n",
            "4758417  BenignPositive\n",
            "\n",
            "[4758418 rows x 1 columns]\n",
            "\n",
            "Updated DataFrame df:\n",
            "         OrgId  DetectorId  AlertTitle            Category        EntityType  \\\n",
            "0           26          31         813             Malware              File   \n",
            "1           33          38          25              Impact           Machine   \n",
            "2          201         419         444           Execution           Machine   \n",
            "3          204          44        1233  SuspiciousActivity              File   \n",
            "4           54         102       58829        Exfiltration              File   \n",
            "...        ...         ...         ...                 ...               ...   \n",
            "4758413    142         112        7836        Exfiltration       MailMessage   \n",
            "4758414     36           2           2   CommandAndControl              User   \n",
            "4758415    851           1           1       InitialAccess       MailMessage   \n",
            "4758416     12          16        1334              Impact                Ip   \n",
            "4758417    201           5          97  SuspiciousActivity  CloudApplication   \n",
            "\n",
            "        EvidenceRole  DeviceId  IpAddress     Url  AccountSid  AccountName  \\\n",
            "0            Related     98799     360606  160396      441377       453297   \n",
            "1           Impacted     98799     360606  160396      441377       453297   \n",
            "2           Impacted     98799     360606  160396      441377       453297   \n",
            "3            Related     98799     360606  160396      441377       453297   \n",
            "4           Impacted     98799     360606  160396      441377       453297   \n",
            "...              ...       ...        ...     ...         ...          ...   \n",
            "4758413     Impacted     98799     360606  160396      441377       453297   \n",
            "4758414     Impacted     98799     360606  160396       32117        36982   \n",
            "4758415      Related     98799     360606  160396      441377       453297   \n",
            "4758416      Related     98799        546  160396      441377       453297   \n",
            "4758417     Impacted     98799     360606  160396      441377       453297   \n",
            "\n",
            "         RegistryValueName  ResourceIdName  CountryCode   City        Date  \\\n",
            "0                      635            3586          242  10630  2024-06-06   \n",
            "1                      635            3586          242  10630  2024-06-03   \n",
            "2                      635            3586          242  10630  2024-06-13   \n",
            "3                      635            3586          242  10630  2024-06-08   \n",
            "4                      635            3586          242  10630  2024-06-09   \n",
            "...                    ...             ...          ...    ...         ...   \n",
            "4758413                635            3586          242  10630  2024-06-10   \n",
            "4758414                635            3586          242  10630  2024-06-11   \n",
            "4758415                635            3586          242  10630  2024-06-09   \n",
            "4758416                635            3586          242  10630  2024-05-21   \n",
            "4758417                635            3586          242  10630  2024-06-13   \n",
            "\n",
            "             Time  \n",
            "0        05:56:47  \n",
            "1        10:45:09  \n",
            "2        03:36:40  \n",
            "3        16:54:57  \n",
            "4        02:48:01  \n",
            "...           ...  \n",
            "4758413  10:25:17  \n",
            "4758414  19:30:52  \n",
            "4758415  04:27:41  \n",
            "4758416  23:01:11  \n",
            "4758417  12:08:30  \n",
            "\n",
            "[4758418 rows x 17 columns]\n"
          ]
        }
      ]
    },
    {
      "cell_type": "code",
      "source": [
        "# Get unique values in 'IncidentGrade' for df2 this is target table\n",
        "unique_incident_grades = df2['IncidentGrade'].unique()\n",
        "print(\"Unique values in IncidentGrade:\")\n",
        "print(unique_incident_grades)\n",
        "\n",
        "# Get value counts for 'IncidentGrade' in df2\n",
        "incident_grade_counts = df2['IncidentGrade'].value_counts()\n",
        "print(\"\\nValue counts for IncidentGrade:\")\n",
        "print(incident_grade_counts)\n"
      ],
      "metadata": {
        "colab": {
          "base_uri": "https://localhost:8080/"
        },
        "id": "KYBWnceIisjN",
        "outputId": "680ea673-d496-4ce8-ef9e-d89faf085176"
      },
      "execution_count": 18,
      "outputs": [
        {
          "output_type": "stream",
          "name": "stdout",
          "text": [
            "Unique values in IncidentGrade:\n",
            "['BenignPositive' 'TruePositive' 'FalsePositive']\n",
            "\n",
            "Value counts for IncidentGrade:\n",
            "IncidentGrade\n",
            "BenignPositive    2065863\n",
            "TruePositive      1671302\n",
            "FalsePositive     1021253\n",
            "Name: count, dtype: int64\n"
          ]
        }
      ]
    },
    {
      "cell_type": "code",
      "source": [
        "import pandas as pd\n",
        "import seaborn as sns\n",
        "import matplotlib.pyplot as plt\n",
        "\n",
        "# Ensure the two DataFrames have the same length\n",
        "if len(df) != len(df2):\n",
        "    raise ValueError(\"The feature DataFrame (df) and target DataFrame (df2) must have the same number of rows.\")\n",
        "\n",
        "# Add the target column to the feature DataFrame\n",
        "df['IncidentGrade'] = pd.factorize(df2['IncidentGrade'])[0]\n",
        "\n",
        "# Convert non-numeric columns in df to numeric using one-hot encoding or factorization\n",
        "for col in df.select_dtypes(include=['object']).columns:\n",
        "    df[col] = pd.factorize(df[col])[0]\n",
        "\n",
        "# Calculate the correlation matrix\n",
        "correlation_matrix = df.corr()\n",
        "\n",
        "# Extract correlations with the target 'IncidentGrade'\n",
        "target_correlations = correlation_matrix['IncidentGrade'].sort_values(ascending=False)\n",
        "\n",
        "# Display the correlations with the target\n",
        "print(\"Correlations with IncidentGrade:\")\n",
        "print(target_correlations)\n",
        "\n",
        "# Plot heatmap for all correlations\n",
        "plt.figure(figsize=(12, 8))\n",
        "sns.heatmap(correlation_matrix, annot=False, cmap='coolwarm', fmt='.2f', cbar=True)\n",
        "plt.title('Correlation Matrix')\n",
        "plt.show()\n",
        "\n",
        "# Plot bar chart for correlation with target\n",
        "plt.figure(figsize=(10, 6))\n",
        "target_correlations.drop('IncidentGrade').plot(kind='bar', color='skyblue')\n",
        "plt.title('Feature Correlation with IncidentGrade')\n",
        "plt.ylabel('Correlation Coefficient')\n",
        "plt.xlabel('Features')\n",
        "plt.xticks(rotation=45)\n",
        "plt.tight_layout()\n",
        "plt.show()\n"
      ],
      "metadata": {
        "colab": {
          "base_uri": "https://localhost:8080/",
          "height": 1000
        },
        "id": "nc6Ys5l9Y1gI",
        "outputId": "1dc1bbb1-0d7c-4596-fbee-60e469a59f8e"
      },
      "execution_count": 20,
      "outputs": [
        {
          "output_type": "stream",
          "name": "stdout",
          "text": [
            "Correlations with IncidentGrade:\n",
            "IncidentGrade        1.000000\n",
            "OrgId                0.110589\n",
            "Url                  0.083952\n",
            "DeviceId             0.057959\n",
            "ResourceIdName       0.016520\n",
            "Category             0.012928\n",
            "Date                 0.011983\n",
            "RegistryValueName    0.002948\n",
            "AccountName         -0.003284\n",
            "AccountSid          -0.017644\n",
            "Time                -0.018450\n",
            "DetectorId          -0.053196\n",
            "AlertTitle          -0.054142\n",
            "EvidenceRole        -0.070597\n",
            "IpAddress           -0.071431\n",
            "EntityType          -0.072916\n",
            "City                -0.120374\n",
            "CountryCode         -0.131870\n",
            "Name: IncidentGrade, dtype: float64\n"
          ]
        },
        {
          "output_type": "display_data",
          "data": {
            "text/plain": [
              "<Figure size 1200x800 with 2 Axes>"
            ],
            "image/png": "[encoded data removed]"
          },
          "metadata": {}
        },
        {
          "output_type": "display_data",
          "data": {
            "text/plain": [
              "<Figure size 1000x600 with 1 Axes>"
            ],
            "image/png": "[encoded data removed]"
          },
          "metadata": {}
        }
      ]
    },
    {
      "cell_type": "code",
      "source": [
        "import seaborn as sns\n",
        "import matplotlib.pyplot as plt\n",
        "\n",
        "# Distribution of the target variable\n",
        "sns.countplot(x=\"IncidentGrade\", data=df2)  # Use 'x' to specify the column name\n",
        "plt.title(\"Distribution of IncidentGrade\")\n",
        "plt.xlabel(\"IncidentGrade\")\n",
        "plt.ylabel(\"Count\")\n",
        "plt.xticks(rotation=45)\n",
        "plt.show()\n"
      ],
      "metadata": {
        "colab": {
          "base_uri": "https://localhost:8080/",
          "height": 540
        },
        "id": "y1IMzibK68rE",
        "outputId": "4f4953fe-aeab-4ff9-997c-0b7cba229861"
      },
      "execution_count": 21,
      "outputs": [
        {
          "output_type": "display_data",
          "data": {
            "text/plain": [
              "<Figure size 640x480 with 1 Axes>"
            ],
            "image/png": "[encoded data removed]"
          },
          "metadata": {}
        }
      ]
    },
    {
      "cell_type": "code",
      "source": [
        "from sklearn.ensemble import RandomForestClassifier"
      ],
      "metadata": {
        "id": "d1lWbMgrTn-C"
      },
      "execution_count": 1,
      "outputs": []
    },
    {
      "cell_type": "code",
      "source": [
        "import pandas as pd\n",
        "import numpy as np\n",
        "from sklearn.ensemble import RandomForestClassifier\n",
        "from sklearn.model_selection import train_test_split\n",
        "from sklearn.metrics import classification_report, confusion_matrix, accuracy_score\n",
        "\n",
        "# Step 1: Prepare the data\n",
        "# Assume `df` contains the features and `df2` contains the target\n",
        "df['IncidentGrade'] = pd.factorize(df2['IncidentGrade'])[0]  # Convert target to numeric\n",
        "\n",
        "# Separate features and target\n",
        "X = df.drop(columns=['IncidentGrade'])  # Features\n",
        "y = df['IncidentGrade']  # Target\n",
        "\n",
        "# Convert non-numeric columns to numeric using one-hot encoding or factorization\n",
        "for col in X.select_dtypes(include=['object']).columns:\n",
        "    X[col] = pd.factorize(X[col])[0]\n",
        "\n",
        "# Step 2: Split the data\n",
        "X_train, X_test, y_train, y_test = train_test_split(X, y, test_size=0.3, random_state=42)\n",
        "\n",
        "# Step 3: Train the RandomForestClassifier\n",
        "clf = RandomForestClassifier(n_estimators=100, random_state=42)\n",
        "clf.fit(X_train, y_train)\n",
        "\n",
        "# Step 4: Make predictions\n",
        "y_pred = clf.predict(X_test)\n",
        "\n",
        "# Step 5: Evaluate the model\n",
        "print(\"Confusion Matrix:\")\n",
        "print(confusion_matrix(y_test, y_pred))\n",
        "\n",
        "print(\"\\nClassification Report:\")\n",
        "print(classification_report(y_test, y_pred))\n",
        "\n",
        "print(\"\\nAccuracy Score:\")\n",
        "print(accuracy_score(y_test, y_pred))\n",
        "\n",
        "# Step 6: Feature importance (optional)\n",
        "feature_importance = pd.DataFrame({\n",
        "    'Feature': X.columns,\n",
        "    'Importance': clf.feature_importances_\n",
        "}).sort_values(by='Importance', ascending=False)\n",
        "\n",
        "print(\"\\nFeature Importance:\")\n",
        "print(feature_importance)\n"
      ],
      "metadata": {
        "colab": {
          "base_uri": "https://localhost:8080/"
        },
        "id": "bd7C_QdDTkTq",
        "outputId": "b64a2041-ea41-4dc2-e73e-85de9d97f0a1"
      },
      "execution_count": 22,
      "outputs": [
        {
          "output_type": "stream",
          "name": "stdout",
          "text": [
            "Confusion Matrix:\n",
            "[[605330   7616   6819]\n",
            " [ 11960 481879   7468]\n",
            " [ 10770   7547 288137]]\n",
            "\n",
            "Classification Report:\n",
            "              precision    recall  f1-score   support\n",
            "\n",
            "           0       0.96      0.98      0.97    619765\n",
            "           1       0.97      0.96      0.97    501307\n",
            "           2       0.95      0.94      0.95    306454\n",
            "\n",
            "    accuracy                           0.96   1427526\n",
            "   macro avg       0.96      0.96      0.96   1427526\n",
            "weighted avg       0.96      0.96      0.96   1427526\n",
            "\n",
            "\n",
            "Accuracy Score:\n",
            "0.9634472506980608\n",
            "\n",
            "Feature Importance:\n",
            "              Feature  Importance\n",
            "0               OrgId    0.405918\n",
            "1          DetectorId    0.148744\n",
            "2          AlertTitle    0.113894\n",
            "16               Time    0.079733\n",
            "15               Date    0.053315\n",
            "3            Category    0.039451\n",
            "9          AccountSid    0.033474\n",
            "10        AccountName    0.027003\n",
            "7           IpAddress    0.024124\n",
            "4          EntityType    0.023022\n",
            "13        CountryCode    0.017404\n",
            "8                 Url    0.010852\n",
            "14               City    0.010537\n",
            "6            DeviceId    0.006842\n",
            "5        EvidenceRole    0.005397\n",
            "12     ResourceIdName    0.000191\n",
            "11  RegistryValueName    0.000101\n"
          ]
        }
      ]
    }
  ]
}